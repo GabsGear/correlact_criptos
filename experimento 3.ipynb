{
 "cells": [
  {
   "cell_type": "code",
   "execution_count": 3,
   "metadata": {},
   "outputs": [],
   "source": [
    "import helpers \n",
    "import pandas as pd\n",
    "import numpy as np"
   ]
  },
  {
   "cell_type": "code",
   "execution_count": 4,
   "metadata": {},
   "outputs": [],
   "source": [
    "df = pd.read_csv('dataset')"
   ]
  },
  {
   "cell_type": "code",
   "execution_count": 6,
   "metadata": {},
   "outputs": [
    {
     "data": {
      "text/html": [
       "<div>\n",
       "<style scoped>\n",
       "    .dataframe tbody tr th:only-of-type {\n",
       "        vertical-align: middle;\n",
       "    }\n",
       "\n",
       "    .dataframe tbody tr th {\n",
       "        vertical-align: top;\n",
       "    }\n",
       "\n",
       "    .dataframe thead th {\n",
       "        text-align: right;\n",
       "    }\n",
       "</style>\n",
       "<table border=\"1\" class=\"dataframe\">\n",
       "  <thead>\n",
       "    <tr style=\"text-align: right;\">\n",
       "      <th></th>\n",
       "      <th>Unnamed: 0</th>\n",
       "      <th>XLMBTC</th>\n",
       "      <th>IOTABTC</th>\n",
       "      <th>ADABTC</th>\n",
       "      <th>BNBBTC</th>\n",
       "      <th>EOSBTC</th>\n",
       "      <th>XRPBTC</th>\n",
       "      <th>ETHBTC</th>\n",
       "      <th>LTCBTC</th>\n",
       "      <th>ETCBTC</th>\n",
       "      <th>NEOBTC</th>\n",
       "      <th>LTCBTC.1</th>\n",
       "    </tr>\n",
       "  </thead>\n",
       "  <tbody>\n",
       "    <tr>\n",
       "      <th>0</th>\n",
       "      <td>0</td>\n",
       "      <td>0.000037</td>\n",
       "      <td>0.000084</td>\n",
       "      <td>0.000012</td>\n",
       "      <td>0.001503</td>\n",
       "      <td>0.000803</td>\n",
       "      <td>0.00007</td>\n",
       "      <td>0.032821</td>\n",
       "      <td>0.008628</td>\n",
       "      <td>0.001655</td>\n",
       "      <td>0.002720</td>\n",
       "      <td>0.008628</td>\n",
       "    </tr>\n",
       "    <tr>\n",
       "      <th>1</th>\n",
       "      <td>1</td>\n",
       "      <td>0.000037</td>\n",
       "      <td>0.000084</td>\n",
       "      <td>0.000012</td>\n",
       "      <td>0.001502</td>\n",
       "      <td>0.000803</td>\n",
       "      <td>0.00007</td>\n",
       "      <td>0.032724</td>\n",
       "      <td>0.008604</td>\n",
       "      <td>0.001653</td>\n",
       "      <td>0.002724</td>\n",
       "      <td>0.008604</td>\n",
       "    </tr>\n",
       "    <tr>\n",
       "      <th>2</th>\n",
       "      <td>2</td>\n",
       "      <td>0.000037</td>\n",
       "      <td>0.000084</td>\n",
       "      <td>0.000012</td>\n",
       "      <td>0.001503</td>\n",
       "      <td>0.000804</td>\n",
       "      <td>0.00007</td>\n",
       "      <td>0.032764</td>\n",
       "      <td>0.008604</td>\n",
       "      <td>0.001654</td>\n",
       "      <td>0.002722</td>\n",
       "      <td>0.008604</td>\n",
       "    </tr>\n",
       "    <tr>\n",
       "      <th>3</th>\n",
       "      <td>3</td>\n",
       "      <td>0.000037</td>\n",
       "      <td>0.000084</td>\n",
       "      <td>0.000012</td>\n",
       "      <td>0.001503</td>\n",
       "      <td>0.000804</td>\n",
       "      <td>0.00007</td>\n",
       "      <td>0.032810</td>\n",
       "      <td>0.008629</td>\n",
       "      <td>0.001652</td>\n",
       "      <td>0.002721</td>\n",
       "      <td>0.008629</td>\n",
       "    </tr>\n",
       "    <tr>\n",
       "      <th>4</th>\n",
       "      <td>4</td>\n",
       "      <td>0.000037</td>\n",
       "      <td>0.000084</td>\n",
       "      <td>0.000012</td>\n",
       "      <td>0.001502</td>\n",
       "      <td>0.000804</td>\n",
       "      <td>0.00007</td>\n",
       "      <td>0.032761</td>\n",
       "      <td>0.008613</td>\n",
       "      <td>0.001653</td>\n",
       "      <td>0.002718</td>\n",
       "      <td>0.008613</td>\n",
       "    </tr>\n",
       "  </tbody>\n",
       "</table>\n",
       "</div>"
      ],
      "text/plain": [
       "   Unnamed: 0    XLMBTC   IOTABTC    ADABTC    BNBBTC    EOSBTC   XRPBTC  \\\n",
       "0           0  0.000037  0.000084  0.000012  0.001503  0.000803  0.00007   \n",
       "1           1  0.000037  0.000084  0.000012  0.001502  0.000803  0.00007   \n",
       "2           2  0.000037  0.000084  0.000012  0.001503  0.000804  0.00007   \n",
       "3           3  0.000037  0.000084  0.000012  0.001503  0.000804  0.00007   \n",
       "4           4  0.000037  0.000084  0.000012  0.001502  0.000804  0.00007   \n",
       "\n",
       "     ETHBTC    LTCBTC    ETCBTC    NEOBTC  LTCBTC.1  \n",
       "0  0.032821  0.008628  0.001655  0.002720  0.008628  \n",
       "1  0.032724  0.008604  0.001653  0.002724  0.008604  \n",
       "2  0.032764  0.008604  0.001654  0.002722  0.008604  \n",
       "3  0.032810  0.008629  0.001652  0.002721  0.008629  \n",
       "4  0.032761  0.008613  0.001653  0.002718  0.008613  "
      ]
     },
     "execution_count": 6,
     "metadata": {},
     "output_type": "execute_result"
    }
   ],
   "source": [
    "df.head()"
   ]
  },
  {
   "cell_type": "code",
   "execution_count": 13,
   "metadata": {},
   "outputs": [
    {
     "data": {
      "text/plain": [
       "(0.8767990071278712, 1.7943522384721085e-160)"
      ]
     },
     "execution_count": 13,
     "metadata": {},
     "output_type": "execute_result"
    }
   ],
   "source": [
    "from scipy.stats import pearsonr\n",
    "pearsonr(df['IOTABTC'], df['ADABTC'])"
   ]
  },
  {
   "cell_type": "code",
   "execution_count": null,
   "metadata": {},
   "outputs": [],
   "source": []
  }
 ],
 "metadata": {
  "kernelspec": {
   "display_name": "Python 3",
   "language": "python",
   "name": "python3"
  },
  "language_info": {
   "codemirror_mode": {
    "name": "ipython",
    "version": 3
   },
   "file_extension": ".py",
   "mimetype": "text/x-python",
   "name": "python",
   "nbconvert_exporter": "python",
   "pygments_lexer": "ipython3",
   "version": "3.6.5"
  }
 },
 "nbformat": 4,
 "nbformat_minor": 2
}
