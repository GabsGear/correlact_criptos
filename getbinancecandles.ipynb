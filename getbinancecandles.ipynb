{
 "cells": [
  {
   "cell_type": "code",
   "execution_count": 8,
   "metadata": {},
   "outputs": [],
   "source": [
    "from binance.client import Client\n",
    "import pandas as pd\n",
    "import numpy as np\n",
    "\n",
    "pairs = ['BTCUSDT', 'XLMBTC','IOTABTC','ADABTC' ,'BNBBTC' ,'EOSBTC' ,\n",
    "         'XRPBTC' ,'ETHBTC', 'LTCBTC', 'ETCBTC','NEOBTC']\n",
    "client = Client('', '')\n",
    "\n",
    "\n",
    "def createDataset():\n",
    "    df = pd.DataFrame(columns=['BTCUSDT', 'XLMBTC','IOTABTC','ADABTC' ,'BNBBTC' ,'EOSBTC' ,'XRPBTC',\n",
    "                               'ETHBTC', 'LTCBTC', 'ETCBTC','NEOBTC'])\n",
    "\n",
    "    for pair in pairs:\n",
    "        close = []\n",
    "        candles = client.get_klines(\n",
    "            symbol=pair, interval=Client.KLINE_INTERVAL_1MINUTE)\n",
    "        for candle in candles:\n",
    "            close.append(candle[4])\n",
    "        df[pair] = np.array(close).astype(np.float)\n",
    "\n",
    "    return df\n",
    "\n",
    "df = createDataset()\n",
    "df.to_csv('dataset272018')\n"
   ]
  },
  {
   "cell_type": "code",
   "execution_count": null,
   "metadata": {},
   "outputs": [],
   "source": []
  }
 ],
 "metadata": {
  "kernelspec": {
   "display_name": "Python 3",
   "language": "python",
   "name": "python3"
  },
  "language_info": {
   "codemirror_mode": {
    "name": "ipython",
    "version": 3
   },
   "file_extension": ".py",
   "mimetype": "text/x-python",
   "name": "python",
   "nbconvert_exporter": "python",
   "pygments_lexer": "ipython3",
   "version": "3.6.5"
  }
 },
 "nbformat": 4,
 "nbformat_minor": 2
}
